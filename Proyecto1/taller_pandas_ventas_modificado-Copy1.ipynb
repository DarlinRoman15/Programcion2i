{
 "cells": [
  {
   "cell_type": "markdown",
   "id": "7ed2b0b2",
   "metadata": {},
   "source": [
    "# 🐼 Taller de Pandas: Análisis de Datos de Ventas (Modificado)"
   ]
  },
  {
   "cell_type": "code",
   "execution_count": 1,
   "id": "b9b988d5",
   "metadata": {},
   "outputs": [
    {
     "data": {
      "text/html": [
       "<div>\n",
       "<style scoped>\n",
       "    .dataframe tbody tr th:only-of-type {\n",
       "        vertical-align: middle;\n",
       "    }\n",
       "\n",
       "    .dataframe tbody tr th {\n",
       "        vertical-align: top;\n",
       "    }\n",
       "\n",
       "    .dataframe thead th {\n",
       "        text-align: right;\n",
       "    }\n",
       "</style>\n",
       "<table border=\"1\" class=\"dataframe\">\n",
       "  <thead>\n",
       "    <tr style=\"text-align: right;\">\n",
       "      <th></th>\n",
       "      <th>Fecha</th>\n",
       "      <th>Producto</th>\n",
       "      <th>Categoría</th>\n",
       "      <th>Región</th>\n",
       "      <th>Cliente</th>\n",
       "      <th>Cantidad</th>\n",
       "      <th>Precio Unitario</th>\n",
       "      <th>Total Venta</th>\n",
       "    </tr>\n",
       "  </thead>\n",
       "  <tbody>\n",
       "    <tr>\n",
       "      <th>0</th>\n",
       "      <td>2023-06-16</td>\n",
       "      <td>Microondas</td>\n",
       "      <td>Electrodomésticos</td>\n",
       "      <td>Este</td>\n",
       "      <td>e</td>\n",
       "      <td>7</td>\n",
       "      <td>317</td>\n",
       "      <td>2219</td>\n",
       "    </tr>\n",
       "    <tr>\n",
       "      <th>1</th>\n",
       "      <td>2023-08-11</td>\n",
       "      <td>Microondas</td>\n",
       "      <td>Electrodomésticos</td>\n",
       "      <td>Sur</td>\n",
       "      <td>e</td>\n",
       "      <td>4</td>\n",
       "      <td>798</td>\n",
       "      <td>3192</td>\n",
       "    </tr>\n",
       "    <tr>\n",
       "      <th>2</th>\n",
       "      <td>2023-02-26</td>\n",
       "      <td>Aspiradora</td>\n",
       "      <td>Electrodomésticos</td>\n",
       "      <td>Sur</td>\n",
       "      <td>e</td>\n",
       "      <td>8</td>\n",
       "      <td>965</td>\n",
       "      <td>7720</td>\n",
       "    </tr>\n",
       "    <tr>\n",
       "      <th>3</th>\n",
       "      <td>2023-08-25</td>\n",
       "      <td>Plancha</td>\n",
       "      <td>Electrodomésticos</td>\n",
       "      <td>Este</td>\n",
       "      <td>t</td>\n",
       "      <td>5</td>\n",
       "      <td>701</td>\n",
       "      <td>3505</td>\n",
       "    </tr>\n",
       "    <tr>\n",
       "      <th>4</th>\n",
       "      <td>2023-09-23</td>\n",
       "      <td>Refrigerador</td>\n",
       "      <td>Línea Blanca</td>\n",
       "      <td>Sur</td>\n",
       "      <td>t</td>\n",
       "      <td>7</td>\n",
       "      <td>305</td>\n",
       "      <td>2135</td>\n",
       "    </tr>\n",
       "  </tbody>\n",
       "</table>\n",
       "</div>"
      ],
      "text/plain": [
       "       Fecha      Producto          Categoría Región Cliente  Cantidad  \\\n",
       "0 2023-06-16    Microondas  Electrodomésticos   Este       e         7   \n",
       "1 2023-08-11    Microondas  Electrodomésticos    Sur       e         4   \n",
       "2 2023-02-26    Aspiradora  Electrodomésticos    Sur       e         8   \n",
       "3 2023-08-25       Plancha  Electrodomésticos   Este       t         5   \n",
       "4 2023-09-23  Refrigerador       Línea Blanca    Sur       t         7   \n",
       "\n",
       "   Precio Unitario  Total Venta  \n",
       "0              317         2219  \n",
       "1              798         3192  \n",
       "2              965         7720  \n",
       "3              701         3505  \n",
       "4              305         2135  "
      ]
     },
     "execution_count": 1,
     "metadata": {},
     "output_type": "execute_result"
    }
   ],
   "source": [
    "import pandas as pd\n",
    "import numpy as np\n",
    "from datetime import datetime, timedelta\n",
    "import random\n",
    "\n",
    "# Nuevos productos y categorías\n",
    "productos = ['Refrigerador', 'Lavadora', 'Microondas', 'Licuadora', 'Plancha', 'Aspiradora']\n",
    "categorias = {\n",
    "    'Refrigerador': 'Línea Blanca',\n",
    "    'Lavadora': 'Línea Blanca',\n",
    "    'Microondas': 'Electrodomésticos',\n",
    "    'Licuadora': 'Electrodomésticos',\n",
    "    'Plancha': 'Electrodomésticos',\n",
    "    'Aspiradora': 'Electrodomésticos'\n",
    "}\n",
    "regiones = ['Norte', 'Sur', 'Este', 'Oeste']\n",
    "clientes = [f'Cliente_{i}' for i in range(1, 21)]\n",
    "\n",
    "# Generar datos\n",
    "np.random.seed(42)\n",
    "fechas = [datetime(2023, 1, 1) + timedelta(days=random.randint(0, 364)) for _ in range(500)]\n",
    "productos_sample = [random.choice(productos) for _ in range(500)]\n",
    "categorias_sample = [categorias[p] for p in productos_sample]\n",
    "regiones_sample = [random.choice(regiones) for _ in range(500)]\n",
    "clientes_sample = [random.choice(clients) for clients in clientes for _ in range(25)][:500]\n",
    "cantidades = np.random.randint(1, 10, size=500)\n",
    "precios_unitarios = [random.randint(100, 1000) for _ in range(500)]\n",
    "total_venta = [c * p for c, p in zip(cantidades, precios_unitarios)]\n",
    "\n",
    "# Crear DataFrame\n",
    "df = pd.DataFrame({\n",
    "    'Fecha': fechas,\n",
    "    'Producto': productos_sample,\n",
    "    'Categoría': categorias_sample,\n",
    "    'Región': regiones_sample,\n",
    "    'Cliente': clientes_sample,\n",
    "    'Cantidad': cantidades,\n",
    "    'Precio Unitario': precios_unitarios,\n",
    "    'Total Venta': total_venta\n",
    "})\n",
    "df.head()"
   ]
  },
  {
   "cell_type": "markdown",
   "id": "46b5784f",
   "metadata": {},
   "source": [
    "## 🔍 Análisis de datos"
   ]
  },
  {
   "cell_type": "code",
   "execution_count": 2,
   "id": "2f722acd",
   "metadata": {},
   "outputs": [
    {
     "data": {
      "text/plain": [
       "Región\n",
       "Sur      136\n",
       "Oeste    134\n",
       "Este     116\n",
       "Norte    114\n",
       "Name: count, dtype: int64"
      ]
     },
     "execution_count": 2,
     "metadata": {},
     "output_type": "execute_result"
    }
   ],
   "source": [
    "# Ventas por región\n",
    "ventas_por_region = df['Región'].value_counts()\n",
    "ventas_por_region"
   ]
  },
  {
   "cell_type": "code",
   "execution_count": 3,
   "id": "94f41ad9",
   "metadata": {},
   "outputs": [
    {
     "data": {
      "text/plain": [
       "Categoría\n",
       "Electrodomésticos    870528\n",
       "Línea Blanca         472441\n",
       "Name: Total Venta, dtype: int32"
      ]
     },
     "execution_count": 3,
     "metadata": {},
     "output_type": "execute_result"
    }
   ],
   "source": [
    "# Ingreso total por categoría\n",
    "ingreso_por_categoria = df.groupby('Categoría')['Total Venta'].sum()\n",
    "ingreso_por_categoria"
   ]
  },
  {
   "cell_type": "code",
   "execution_count": 4,
   "id": "65a50ba7",
   "metadata": {},
   "outputs": [
    {
     "data": {
      "text/plain": [
       "'e'"
      ]
     },
     "execution_count": 4,
     "metadata": {},
     "output_type": "execute_result"
    }
   ],
   "source": [
    "# Cliente que más compró\n",
    "cliente_frecuente = df['Cliente'].value_counts().idxmax()\n",
    "cliente_frecuente"
   ]
  },
  {
   "cell_type": "code",
   "execution_count": 5,
   "id": "e2c22258-0d15-4a68-b212-ae99f08dea86",
   "metadata": {},
   "outputs": [
    {
     "name": "stdout",
     "output_type": "stream",
     "text": [
      "Empty DataFrame\n",
      "Columns: [Cliente, Cantidad de Productos]\n",
      "Index: []\n"
     ]
    }
   ],
   "source": [
    "# Contamos la cantidad de productos diferentes que compra cada cliente\n",
    "productos_por_cliente = df.groupby('Cliente')['Producto'].nunique().reset_index(name='Cantidad de Productos')\n",
    "# Filtramos los clientes que solo compran un producto\n",
    "clientes_un_producto = productos_por_cliente[productos_por_cliente['Cantidad de Productos'] == 1]\n",
    "print(clientes_un_producto)\n"
   ]
  },
  {
   "cell_type": "code",
   "execution_count": null,
   "id": "de274eb8-ff12-4833-8eb8-eac2af408b61",
   "metadata": {},
   "outputs": [],
   "source": []
  }
 ],
 "metadata": {
  "kernelspec": {
   "display_name": "Python [conda env:base] *",
   "language": "python",
   "name": "conda-base-py"
  },
  "language_info": {
   "codemirror_mode": {
    "name": "ipython",
    "version": 3
   },
   "file_extension": ".py",
   "mimetype": "text/x-python",
   "name": "python",
   "nbconvert_exporter": "python",
   "pygments_lexer": "ipython3",
   "version": "3.13.5"
  }
 },
 "nbformat": 4,
 "nbformat_minor": 5
}
